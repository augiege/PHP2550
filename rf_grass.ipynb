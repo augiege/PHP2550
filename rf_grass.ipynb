{
 "cells": [
  {
   "cell_type": "code",
   "execution_count": 1,
   "metadata": {},
   "outputs": [],
   "source": [
    "import pandas as pd\n",
    "import numpy as np\n",
    "from sklearn.metrics import roc_curve, roc_auc_score\n",
    "from sklearn.model_selection import train_test_split, StratifiedKFold\n",
    "from sklearn.ensemble import RandomForestClassifier\n",
    "from sklearn.metrics import *\n",
    "import xgboost as xgb\n",
    "import matplotlib.pyplot as plt\n",
    "import seaborn as sns\n",
    "from ipynb.fs.full.Performance_Utilities import calculate_optimal_threshold, print_metrics\n",
    "from utils.create_features_utils import *\n",
    "from sklearn.base import clone\n",
    "import os"
   ]
  },
  {
   "cell_type": "code",
   "execution_count": 2,
   "metadata": {},
   "outputs": [],
   "source": [
    "tennis_file = \"data/grass_matches_with_feature.csv\"\n",
    "raw_tennis_file = \"data/mens/combined_raw_data.csv\"\n",
    "round_16_file = \"data/wimbledon_2019.csv\""
   ]
  },
  {
   "cell_type": "code",
   "execution_count": 3,
   "metadata": {
    "scrolled": true
   },
   "outputs": [
    {
     "name": "stderr",
     "output_type": "stream",
     "text": [
      "/opt/anaconda3/lib/python3.7/site-packages/IPython/core/interactiveshell.py:3058: DtypeWarning: Columns (27,33) have mixed types. Specify dtype option on import or set low_memory=False.\n",
      "  interactivity=interactivity, compiler=compiler, result=result)\n"
     ]
    }
   ],
   "source": [
    "grass_tennis = pd.read_csv(tennis_file) # All grass court results from all years\n",
    "list(grass_tennis.columns)\n",
    "round_16 = pd.read_csv(round_16_file) # Round of 16 and on from Wimbledon 2019\n",
    "raw_tennis = pd.read_csv(raw_tennis_file) # Raw tennis file"
   ]
  },
  {
   "cell_type": "code",
   "execution_count": 4,
   "metadata": {},
   "outputs": [],
   "source": [
    "features_list = [\n",
    " 'diff_rank',\n",
    " 'diff_match_win_percent',\n",
    " 'diff_games_win_percent',\n",
    " 'diff_5_set_match_win_percent',\n",
    " 'diff_close_sets_percent',\n",
    " 'diff_match_win_percent_grass',\n",
    " 'diff_games_win_percent_grass',\n",
    " 'diff_5_set_match_win_percent_grass',\n",
    " 'diff_close_sets_percent_grass',\n",
    " 'diff_match_win_percent_52',\n",
    " 'diff_games_win_percent_52',\n",
    " 'diff_5_set_match_win_percent_52',\n",
    " 'diff_close_sets_percent_52',\n",
    " 'diff_match_win_percent_grass_60',\n",
    " 'diff_games_win_percent_grass_60',\n",
    " 'diff_5_set_match_win_percent_grass_60',\n",
    " 'diff_close_sets_percent_grass_60',\n",
    " 'diff_match_win_percent_hh',\n",
    " 'diff_games_win_percent_hh',\n",
    " 'diff_match_win_percent_grass_hh',\n",
    " 'diff_games_win_percent_grass_hh']"
   ]
  },
  {
   "cell_type": "code",
   "execution_count": 5,
   "metadata": {},
   "outputs": [],
   "source": [
    "grass_tennis = grass_tennis.dropna()\n",
    "\n",
    "grass_tennis['diff_rank'] = grass_tennis['player_0_rank'] - grass_tennis['player_1_rank']"
   ]
  },
  {
   "cell_type": "code",
   "execution_count": 6,
   "metadata": {},
   "outputs": [],
   "source": [
    "# Train-test split\n",
    "y = grass_tennis.outcome\n",
    "X = grass_tennis[features_list]\n",
    "\n",
    "X_train, X_test, y_train, y_test = train_test_split(X, y, random_state=42, stratify=y, shuffle=True, test_size=0.20)"
   ]
  },
  {
   "cell_type": "code",
   "execution_count": 7,
   "metadata": {},
   "outputs": [
    {
     "name": "stdout",
     "output_type": "stream",
     "text": [
      "Creating Player Career Stats All Surface\n",
      "Creating Player Career Stats on Grass/Clay/Hard\n",
      "Creating Player Career Stats All Surface Last 52 Weeks\n",
      "Creating Player Career Stats on Grass/Clay/Hard Last 60 Weeks\n",
      "Creating Player Head to Head Career Stats All Surface\n",
      "Creating Player Head to Head Career Stats On Grass\n",
      "Creating Difference Variables\n"
     ]
    }
   ],
   "source": [
    "# Final to predict on\n",
    "round_16['Date'] = '2019/07/07'\n",
    "round_16['Surface'] = 'Grass'\n",
    "round_16['diff_rank'] = round_16['player_0_rank'] - round_16['player_1_rank']\n",
    "\n",
    "wimby_2019 = create_features(round_16, raw_tennis) # Round 16 and on Wimby 2019\n",
    "X_wimby_2019 = wimby_2019[features_list]"
   ]
  },
  {
   "cell_type": "code",
   "execution_count": 8,
   "metadata": {},
   "outputs": [
    {
     "data": {
      "text/plain": [
       "Index(['Round', 'player_0', 'player_0_rank', 'player_1', 'player_1_rank',\n",
       "       'Date', 'Surface', 'diff_rank', 'player_0_match_win_percent',\n",
       "       'player_1_match_win_percent', 'player_0_games_win_percent',\n",
       "       'player_1_games_win_percent', 'player_0_5_set_match_win_percent',\n",
       "       'player_1_5_set_match_win_percent', 'player_0_close_sets_percent',\n",
       "       'player_1_close_sets_percent', 'player_0_match_win_percent_grass',\n",
       "       'player_1_match_win_percent_grass', 'player_0_games_win_percent_grass',\n",
       "       'player_1_games_win_percent_grass',\n",
       "       'player_0_5_set_match_win_percent_grass',\n",
       "       'player_1_5_set_match_win_percent_grass',\n",
       "       'player_0_close_sets_percent_grass',\n",
       "       'player_1_close_sets_percent_grass', 'player_0_match_win_percent_52',\n",
       "       'player_1_match_win_percent_52', 'player_0_games_win_percent_52',\n",
       "       'player_1_games_win_percent_52', 'player_0_5_set_match_win_percent_52',\n",
       "       'player_1_5_set_match_win_percent_52', 'player_0_close_sets_percent_52',\n",
       "       'player_1_close_sets_percent_52', 'player_0_match_win_percent_grass_60',\n",
       "       'player_1_match_win_percent_grass_60',\n",
       "       'player_0_games_win_percent_grass_60',\n",
       "       'player_1_games_win_percent_grass_60',\n",
       "       'player_0_5_set_match_win_percent_grass_60',\n",
       "       'player_1_5_set_match_win_percent_grass_60',\n",
       "       'player_0_close_sets_percent_grass_60',\n",
       "       'player_1_close_sets_percent_grass_60', 'player_0_match_win_percent_hh',\n",
       "       'player_1_match_win_percent_hh', 'player_0_games_win_percent_hh',\n",
       "       'player_1_games_win_percent_hh', 'player_0_match_win_percent_grass_hh',\n",
       "       'player_1_match_win_percent_grass_hh',\n",
       "       'player_0_games_win_percent_grass_hh',\n",
       "       'player_1_games_win_percent_grass_hh', 'diff_match_win_percent',\n",
       "       'diff_games_win_percent', 'diff_5_set_match_win_percent',\n",
       "       'diff_close_sets_percent', 'diff_match_win_percent_grass',\n",
       "       'diff_games_win_percent_grass', 'diff_5_set_match_win_percent_grass',\n",
       "       'diff_close_sets_percent_grass', 'diff_match_win_percent_52',\n",
       "       'diff_games_win_percent_52', 'diff_5_set_match_win_percent_52',\n",
       "       'diff_close_sets_percent_52', 'diff_match_win_percent_grass_60',\n",
       "       'diff_games_win_percent_grass_60',\n",
       "       'diff_5_set_match_win_percent_grass_60',\n",
       "       'diff_close_sets_percent_grass_60', 'diff_match_win_percent_hh',\n",
       "       'diff_games_win_percent_hh', 'diff_match_win_percent_grass_hh',\n",
       "       'diff_games_win_percent_grass_hh'],\n",
       "      dtype='object')"
      ]
     },
     "execution_count": 8,
     "metadata": {},
     "output_type": "execute_result"
    }
   ],
   "source": [
    "wimby_2019.columns"
   ]
  },
  {
   "cell_type": "code",
   "execution_count": 9,
   "metadata": {},
   "outputs": [
    {
     "data": {
      "text/plain": [
       "RandomForestClassifier(bootstrap=True, ccp_alpha=0.0, class_weight=None,\n",
       "                       criterion='gini', max_depth=3, max_features='auto',\n",
       "                       max_leaf_nodes=None, max_samples=None,\n",
       "                       min_impurity_decrease=0.0, min_impurity_split=None,\n",
       "                       min_samples_leaf=1, min_samples_split=2,\n",
       "                       min_weight_fraction_leaf=0.0, n_estimators=1100,\n",
       "                       n_jobs=-1, oob_score=False, random_state=19, verbose=0,\n",
       "                       warm_start=False)"
      ]
     },
     "execution_count": 9,
     "metadata": {},
     "output_type": "execute_result"
    }
   ],
   "source": [
    "# Random Forest\n",
    "rfc = RandomForestClassifier(n_estimators=1100, max_depth = 3, random_state=19, n_jobs=-1)\n",
    "rfc.fit(X_train, y_train)"
   ]
  },
  {
   "cell_type": "code",
   "execution_count": 10,
   "metadata": {},
   "outputs": [
    {
     "name": "stderr",
     "output_type": "stream",
     "text": [
      "/opt/anaconda3/lib/python3.7/site-packages/pandas/core/series.py:1143: FutureWarning: \n",
      "Passing list-likes to .loc or [] with any missing label will raise\n",
      "KeyError in the future, you can use .reindex() as an alternative.\n",
      "\n",
      "See the documentation here:\n",
      "https://pandas.pydata.org/pandas-docs/stable/user_guide/indexing.html#deprecate-loc-reindex-listlike\n",
      "  return self.loc[key]\n"
     ]
    },
    {
     "data": {
      "text/html": [
       "<div>\n",
       "<style scoped>\n",
       "    .dataframe tbody tr th:only-of-type {\n",
       "        vertical-align: middle;\n",
       "    }\n",
       "\n",
       "    .dataframe tbody tr th {\n",
       "        vertical-align: top;\n",
       "    }\n",
       "\n",
       "    .dataframe thead th {\n",
       "        text-align: right;\n",
       "    }\n",
       "</style>\n",
       "<table border=\"1\" class=\"dataframe\">\n",
       "  <thead>\n",
       "    <tr style=\"text-align: right;\">\n",
       "      <th></th>\n",
       "      <th>Model</th>\n",
       "      <th>Accuracy</th>\n",
       "      <th>True Positive Rate</th>\n",
       "      <th>True Negative Rate</th>\n",
       "      <th>False Positive Rate</th>\n",
       "      <th>False Negative Rate</th>\n",
       "      <th>Sensitivity</th>\n",
       "      <th>Specificity</th>\n",
       "      <th>AUC</th>\n",
       "      <th>F1-Score</th>\n",
       "      <th>Geometric Mean</th>\n",
       "      <th>Kappa-Statistics</th>\n",
       "      <th>Sklearn Version</th>\n",
       "    </tr>\n",
       "  </thead>\n",
       "  <tbody>\n",
       "    <tr>\n",
       "      <td>0</td>\n",
       "      <td>RF</td>\n",
       "      <td>0.695</td>\n",
       "      <td>0.228</td>\n",
       "      <td>0.941</td>\n",
       "      <td>0.059</td>\n",
       "      <td>0.772</td>\n",
       "      <td>0.228</td>\n",
       "      <td>0.941</td>\n",
       "      <td>0.683</td>\n",
       "      <td>0.341</td>\n",
       "      <td>0.463</td>\n",
       "      <td>0.201</td>\n",
       "      <td>0.22</td>\n",
       "    </tr>\n",
       "  </tbody>\n",
       "</table>\n",
       "</div>"
      ],
      "text/plain": [
       "  Model  Accuracy  True Positive Rate  True Negative Rate  \\\n",
       "0    RF     0.695               0.228               0.941   \n",
       "\n",
       "   False Positive Rate  False Negative Rate  Sensitivity  Specificity    AUC  \\\n",
       "0                0.059                0.772        0.228        0.941  0.683   \n",
       "\n",
       "   F1-Score  Geometric Mean  Kappa-Statistics Sklearn Version  \n",
       "0     0.341           0.463             0.201            0.22  "
      ]
     },
     "execution_count": 10,
     "metadata": {},
     "output_type": "execute_result"
    },
    {
     "data": {
      "image/png": "[encoded data removed]",
      "text/plain": [
       "<Figure size 720x504 with 2 Axes>"
      ]
     },
     "metadata": {
      "needs_background": "light"
     },
     "output_type": "display_data"
    }
   ],
   "source": [
    "print_metrics(X_test, y_test, rfc, \"RF\")[1]"
   ]
  },
  {
   "cell_type": "code",
   "execution_count": 11,
   "metadata": {},
   "outputs": [
    {
     "data": {
      "text/plain": [
       "array([0.17505359, 0.46942139, 0.24979103, 0.20357895, 0.21037546,\n",
       "       0.16992588, 0.19159245, 0.18765936, 0.18558587, 0.44819952,\n",
       "       0.1889481 , 0.20396716, 0.20659686, 0.47083989, 0.46656297,\n",
       "       0.47887158])"
      ]
     },
     "execution_count": 11,
     "metadata": {},
     "output_type": "execute_result"
    }
   ],
   "source": [
    "y_test_prob = rfc.predict_proba(X_wimby_2019)[:,1]\n",
    "y_pred = rfc.predict(X_test)\n",
    "y_test_prob"
   ]
  },
  {
   "cell_type": "code",
   "execution_count": 14,
   "metadata": {},
   "outputs": [
    {
     "data": {
      "text/plain": [
       "array([[0.9560247 , 0.04397527],\n",
       "       [0.2330563 , 0.7669437 ],\n",
       "       [0.8222653 , 0.17773466],\n",
       "       [0.8677493 , 0.13225073],\n",
       "       [0.8218956 , 0.17810437],\n",
       "       [0.9853141 , 0.01468595],\n",
       "       [0.89760804, 0.10239193],\n",
       "       [0.85005486, 0.14994511],\n",
       "       [0.9112131 , 0.0887869 ],\n",
       "       [0.5746422 , 0.42535785],\n",
       "       [0.8212577 , 0.1787423 ],\n",
       "       [0.9143285 , 0.08567151],\n",
       "       [0.77290595, 0.22709407],\n",
       "       [0.73154974, 0.2684503 ],\n",
       "       [0.816465  , 0.18353498],\n",
       "       [0.7881447 , 0.21185532]], dtype=float32)"
      ]
     },
     "execution_count": 14,
     "metadata": {},
     "output_type": "execute_result"
    }
   ],
   "source": [
    "# xgb_model.predict_proba(X_wimby_2019)"
   ]
  }
 ],
 "metadata": {
  "kernelspec": {
   "display_name": "Python 3",
   "language": "python",
   "name": "python3"
  },
  "language_info": {
   "codemirror_mode": {
    "name": "ipython",
    "version": 3
   },
   "file_extension": ".py",
   "mimetype": "text/x-python",
   "name": "python",
   "nbconvert_exporter": "python",
   "pygments_lexer": "ipython3",
   "version": "3.7.4"
  }
 },
 "nbformat": 4,
 "nbformat_minor": 2
}
