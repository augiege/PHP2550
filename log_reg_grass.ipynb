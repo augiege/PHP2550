{
 "cells": [
  {
   "cell_type": "code",
   "execution_count": 1,
   "metadata": {},
   "outputs": [],
   "source": [
    "import pandas as pd\n",
    "import numpy as np\n",
    "from sklearn.metrics import roc_curve, roc_auc_score\n",
    "from sklearn.model_selection import train_test_split, StratifiedKFold\n",
    "from sklearn.linear_model import *\n",
    "from sklearn.metrics import *\n",
    "import xgboost as xgb\n",
    "import matplotlib.pyplot as plt\n",
    "import seaborn as sns\n",
    "from ipynb.fs.full.Performance_Utilities import calculate_optimal_threshold, print_metrics\n",
    "from utils.create_features_utils import *\n",
    "from sklearn.base import clone\n",
    "import os"
   ]
  },
  {
   "cell_type": "code",
   "execution_count": 2,
   "metadata": {},
   "outputs": [],
   "source": [
    "tennis_file = \"data/grass_matches_with_feature.csv\"\n",
    "raw_tennis_file = \"data/mens/combined_raw_data.csv\"\n",
    "round_16_file = \"data/wimbledon_2019.csv\""
   ]
  },
  {
   "cell_type": "code",
   "execution_count": 3,
   "metadata": {},
   "outputs": [
    {
     "name": "stderr",
     "output_type": "stream",
     "text": [
      "/opt/anaconda3/lib/python3.7/site-packages/IPython/core/interactiveshell.py:3058: DtypeWarning: Columns (27,33) have mixed types. Specify dtype option on import or set low_memory=False.\n",
      "  interactivity=interactivity, compiler=compiler, result=result)\n"
     ]
    }
   ],
   "source": [
    "grass_tennis = pd.read_csv(tennis_file) # All grass court results from all years\n",
    "list(grass_tennis.columns)\n",
    "round_16 = pd.read_csv(round_16_file) # Round of 16 and on from Wimbledon 2019\n",
    "raw_tennis = pd.read_csv(raw_tennis_file) # Raw tennis file"
   ]
  },
  {
   "cell_type": "code",
   "execution_count": 4,
   "metadata": {},
   "outputs": [],
   "source": [
    "features_list = [\n",
    " 'diff_rank',\n",
    " 'diff_match_win_percent',\n",
    " 'diff_games_win_percent',\n",
    " 'diff_5_set_match_win_percent',\n",
    " 'diff_close_sets_percent',\n",
    " 'diff_match_win_percent_grass',\n",
    " 'diff_games_win_percent_grass',\n",
    " 'diff_5_set_match_win_percent_grass',\n",
    " 'diff_close_sets_percent_grass',\n",
    " 'diff_match_win_percent_52',\n",
    " 'diff_games_win_percent_52',\n",
    " 'diff_5_set_match_win_percent_52',\n",
    " 'diff_close_sets_percent_52',\n",
    " 'diff_match_win_percent_grass_60',\n",
    " 'diff_games_win_percent_grass_60',\n",
    " 'diff_5_set_match_win_percent_grass_60',\n",
    " 'diff_close_sets_percent_grass_60',\n",
    " 'diff_match_win_percent_hh',\n",
    " 'diff_games_win_percent_hh',\n",
    " 'diff_match_win_percent_grass_hh',\n",
    " 'diff_games_win_percent_grass_hh']"
   ]
  },
  {
   "cell_type": "code",
   "execution_count": 5,
   "metadata": {},
   "outputs": [],
   "source": [
    "grass_tennis = grass_tennis.dropna()\n",
    "\n",
    "grass_tennis['diff_rank'] = grass_tennis['player_0_rank'] - grass_tennis['player_1_rank']"
   ]
  },
  {
   "cell_type": "code",
   "execution_count": 8,
   "metadata": {},
   "outputs": [],
   "source": [
    "# Train-test split\n",
    "y = grass_tennis.outcome\n",
    "X = grass_tennis[features_list]\n",
    "\n",
    "X_train, X_test, y_train, y_test = train_test_split(X, y, random_state=42, stratify=y, shuffle=True, test_size=0.20)"
   ]
  },
  {
   "cell_type": "code",
   "execution_count": 9,
   "metadata": {},
   "outputs": [
    {
     "name": "stdout",
     "output_type": "stream",
     "text": [
      "Creating Player Career Stats All Surface\n",
      "Creating Player Career Stats on Grass/Clay/Hard\n",
      "Creating Player Career Stats All Surface Last 52 Weeks\n",
      "Creating Player Career Stats on Grass/Clay/Hard Last 60 Weeks\n",
      "Creating Player Head to Head Career Stats All Surface\n",
      "Creating Player Head to Head Career Stats On Grass\n",
      "Creating Difference Variables\n"
     ]
    }
   ],
   "source": [
    "# Final to predict on\n",
    "round_16['Date'] = '2019/07/07'\n",
    "round_16['Surface'] = 'Grass'\n",
    "round_16['diff_rank'] = round_16['player_0_rank'] - round_16['player_1_rank']\n",
    "\n",
    "wimby_2019 = create_features(round_16, raw_tennis) # Round 16 and on Wimby 2019\n",
    "X_wimby_2019 = wimby_2019[features_list]"
   ]
  },
  {
   "cell_type": "code",
   "execution_count": 19,
   "metadata": {},
   "outputs": [
    {
     "data": {
      "text/plain": [
       "LogisticRegression(C=1.0, class_weight=None, dual=False, fit_intercept=True,\n",
       "                   intercept_scaling=1, l1_ratio=None, max_iter=100,\n",
       "                   multi_class='warn', n_jobs=None, penalty='l2',\n",
       "                   random_state=None, solver='liblinear', tol=0.0001, verbose=0,\n",
       "                   warm_start=False)"
      ]
     },
     "execution_count": 19,
     "metadata": {},
     "output_type": "execute_result"
    }
   ],
   "source": [
    "lrg_model = LogisticRegression(solver = \"liblinear\")\n",
    "lrg_model.fit(X_train, y_train)"
   ]
  },
  {
   "cell_type": "code",
   "execution_count": 20,
   "metadata": {},
   "outputs": [
    {
     "name": "stderr",
     "output_type": "stream",
     "text": [
      "/opt/anaconda3/lib/python3.7/site-packages/pandas/core/series.py:1143: FutureWarning: \n",
      "Passing list-likes to .loc or [] with any missing label will raise\n",
      "KeyError in the future, you can use .reindex() as an alternative.\n",
      "\n",
      "See the documentation here:\n",
      "https://pandas.pydata.org/pandas-docs/stable/user_guide/indexing.html#deprecate-loc-reindex-listlike\n",
      "  return self.loc[key]\n"
     ]
    },
    {
     "data": {
      "text/html": [
       "<div>\n",
       "<style scoped>\n",
       "    .dataframe tbody tr th:only-of-type {\n",
       "        vertical-align: middle;\n",
       "    }\n",
       "\n",
       "    .dataframe tbody tr th {\n",
       "        vertical-align: top;\n",
       "    }\n",
       "\n",
       "    .dataframe thead th {\n",
       "        text-align: right;\n",
       "    }\n",
       "</style>\n",
       "<table border=\"1\" class=\"dataframe\">\n",
       "  <thead>\n",
       "    <tr style=\"text-align: right;\">\n",
       "      <th></th>\n",
       "      <th>Target</th>\n",
       "      <th>Accuracy</th>\n",
       "      <th>True Positive Rate</th>\n",
       "      <th>True Negative Rate</th>\n",
       "      <th>False Positive Rate</th>\n",
       "      <th>False Negative Rate</th>\n",
       "      <th>Sensitivity</th>\n",
       "      <th>Specificity</th>\n",
       "      <th>AUC</th>\n",
       "      <th>F1-Score</th>\n",
       "      <th>Geometric Mean</th>\n",
       "      <th>Kappa-Statistics</th>\n",
       "      <th>Sklearn Version</th>\n",
       "    </tr>\n",
       "  </thead>\n",
       "  <tbody>\n",
       "    <tr>\n",
       "      <td>0</td>\n",
       "      <td>LRG</td>\n",
       "      <td>0.675</td>\n",
       "      <td>0.228</td>\n",
       "      <td>0.912</td>\n",
       "      <td>0.088</td>\n",
       "      <td>0.772</td>\n",
       "      <td>0.228</td>\n",
       "      <td>0.912</td>\n",
       "      <td>0.684</td>\n",
       "      <td>0.327</td>\n",
       "      <td>0.456</td>\n",
       "      <td>0.163</td>\n",
       "      <td>0.21.3</td>\n",
       "    </tr>\n",
       "  </tbody>\n",
       "</table>\n",
       "</div>"
      ],
      "text/plain": [
       "  Target  Accuracy  True Positive Rate  True Negative Rate  \\\n",
       "0    LRG     0.675               0.228               0.912   \n",
       "\n",
       "   False Positive Rate  False Negative Rate  Sensitivity  Specificity    AUC  \\\n",
       "0                0.088                0.772        0.228        0.912  0.684   \n",
       "\n",
       "   F1-Score  Geometric Mean  Kappa-Statistics Sklearn Version  \n",
       "0     0.327           0.456             0.163          0.21.3  "
      ]
     },
     "execution_count": 20,
     "metadata": {},
     "output_type": "execute_result"
    },
    {
     "data": {
      "image/png": "[encoded data removed]",
      "text/plain": [
       "<Figure size 720x504 with 2 Axes>"
      ]
     },
     "metadata": {},
     "output_type": "display_data"
    }
   ],
   "source": [
    "print_metrics(X_test, y_test, lrg_model, \"LRG\")[1]"
   ]
  },
  {
   "cell_type": "code",
   "execution_count": 18,
   "metadata": {},
   "outputs": [
    {
     "data": {
      "text/plain": [
       "array([[0.8845832 , 0.1154168 ],\n",
       "       [0.54484452, 0.45515548],\n",
       "       [0.70352463, 0.29647537],\n",
       "       [0.79578295, 0.20421705],\n",
       "       [0.80784457, 0.19215543],\n",
       "       [0.89236091, 0.10763909],\n",
       "       [0.80291938, 0.19708062],\n",
       "       [0.74073645, 0.25926355],\n",
       "       [0.77030818, 0.22969182],\n",
       "       [0.59600564, 0.40399436],\n",
       "       [0.75143086, 0.24856914],\n",
       "       [0.71624788, 0.28375212],\n",
       "       [0.66834677, 0.33165323],\n",
       "       [0.52654558, 0.47345442],\n",
       "       [0.53457143, 0.46542857],\n",
       "       [0.56922606, 0.43077394]])"
      ]
     },
     "execution_count": 18,
     "metadata": {},
     "output_type": "execute_result"
    }
   ],
   "source": [
    "lrg_model.predict_proba(X_wimby_2019)"
   ]
  }
 ],
 "metadata": {
  "kernelspec": {
   "display_name": "Python 3",
   "language": "python",
   "name": "python3"
  },
  "language_info": {
   "codemirror_mode": {
    "name": "ipython",
    "version": 3
   },
   "file_extension": ".py",
   "mimetype": "text/x-python",
   "name": "python",
   "nbconvert_exporter": "python",
   "pygments_lexer": "ipython3",
   "version": "3.7.4"
  }
 },
 "nbformat": 4,
 "nbformat_minor": 2
}
