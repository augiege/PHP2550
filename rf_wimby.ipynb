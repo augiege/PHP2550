{
 "cells": [
  {
   "cell_type": "code",
   "execution_count": 1,
   "metadata": {},
   "outputs": [],
   "source": [
    "import pandas as pd\n",
    "import numpy as np\n",
    "from sklearn.metrics import roc_curve, roc_auc_score\n",
    "from sklearn.model_selection import train_test_split, StratifiedKFold\n",
    "from sklearn.ensemble import RandomForestClassifier\n",
    "from sklearn.metrics import *\n",
    "import xgboost as xgb\n",
    "import matplotlib.pyplot as plt\n",
    "import seaborn as sns\n",
    "from ipynb.fs.full.Performance_Utilities import calculate_optimal_threshold, print_metrics\n",
    "from utils.create_features_utils import *\n",
    "from sklearn.base import clone\n",
    "import os"
   ]
  },
  {
   "cell_type": "code",
   "execution_count": 2,
   "metadata": {},
   "outputs": [],
   "source": [
    "df = pd.read_csv('data/wimbledon_matches_with_feature.csv')\n",
    "raw_tennis_file = \"data/mens/combined_raw_data.csv\"\n",
    "round_16_file = \"data/wimbledon_2019.csv\""
   ]
  },
  {
   "cell_type": "code",
   "execution_count": 3,
   "metadata": {
    "scrolled": true
   },
   "outputs": [
    {
     "name": "stderr",
     "output_type": "stream",
     "text": [
      "/opt/anaconda3/lib/python3.7/site-packages/IPython/core/interactiveshell.py:3058: DtypeWarning: Columns (27,33) have mixed types. Specify dtype option on import or set low_memory=False.\n",
      "  interactivity=interactivity, compiler=compiler, result=result)\n"
     ]
    }
   ],
   "source": [
    "round_16 = pd.read_csv(round_16_file) # Round of 16 and on from Wimbledon 2019\n",
    "raw_tennis = pd.read_csv(raw_tennis_file) # Raw tennis file"
   ]
  },
  {
   "cell_type": "code",
   "execution_count": 4,
   "metadata": {},
   "outputs": [],
   "source": [
    "features_list = [\n",
    " 'diff_rank',\n",
    " 'diff_match_win_percent',\n",
    " 'diff_games_win_percent',\n",
    " 'diff_5_set_match_win_percent',\n",
    " 'diff_close_sets_percent',\n",
    " 'diff_match_win_percent_grass',\n",
    " 'diff_games_win_percent_grass',\n",
    " 'diff_5_set_match_win_percent_grass',\n",
    " 'diff_close_sets_percent_grass',\n",
    " 'diff_match_win_percent_52',\n",
    " 'diff_games_win_percent_52',\n",
    " 'diff_5_set_match_win_percent_52',\n",
    " 'diff_close_sets_percent_52',\n",
    " 'diff_match_win_percent_grass_60',\n",
    " 'diff_games_win_percent_grass_60',\n",
    " 'diff_5_set_match_win_percent_grass_60',\n",
    " 'diff_close_sets_percent_grass_60',\n",
    " 'diff_match_win_percent_hh',\n",
    " 'diff_games_win_percent_hh',\n",
    " 'diff_match_win_percent_grass_hh',\n",
    " 'diff_games_win_percent_grass_hh']"
   ]
  },
  {
   "cell_type": "code",
   "execution_count": 5,
   "metadata": {},
   "outputs": [],
   "source": [
    "df = df.dropna()\n",
    "\n",
    "df['diff_rank'] = df['player_0_rank'] - df['player_1_rank']"
   ]
  },
  {
   "cell_type": "code",
   "execution_count": 6,
   "metadata": {},
   "outputs": [],
   "source": [
    "# Train-test split\n",
    "y = df.outcome\n",
    "X = df[features_list]\n",
    "\n",
    "X_train, X_test, y_train, y_test = train_test_split(X, y, random_state=42, stratify=y, shuffle=True, test_size=0.20)"
   ]
  },
  {
   "cell_type": "code",
   "execution_count": 7,
   "metadata": {},
   "outputs": [
    {
     "name": "stdout",
     "output_type": "stream",
     "text": [
      "Creating Player Career Stats All Surface\n",
      "Creating Player Career Stats on Grass/Clay/Hard\n",
      "Creating Player Career Stats All Surface Last 52 Weeks\n",
      "Creating Player Career Stats on Grass/Clay/Hard Last 60 Weeks\n",
      "Creating Player Head to Head Career Stats All Surface\n",
      "Creating Player Head to Head Career Stats On Grass\n",
      "Creating Difference Variables\n"
     ]
    }
   ],
   "source": [
    "# Final to predict on\n",
    "round_16['Date'] = '2019/07/07'\n",
    "round_16['Surface'] = 'Grass'\n",
    "round_16['diff_rank'] = round_16['player_0_rank'] - round_16['player_1_rank']\n",
    "\n",
    "wimby_2019 = create_features(round_16, raw_tennis) # Round 16 and on Wimby 2019\n",
    "X_wimby_2019 = wimby_2019[features_list]"
   ]
  },
  {
   "cell_type": "code",
   "execution_count": 8,
   "metadata": {},
   "outputs": [
    {
     "data": {
      "text/plain": [
       "Index(['Round', 'player_0', 'player_0_rank', 'player_1', 'player_1_rank',\n",
       "       'Date', 'Surface', 'diff_rank', 'player_0_match_win_percent',\n",
       "       'player_1_match_win_percent', 'player_0_games_win_percent',\n",
       "       'player_1_games_win_percent', 'player_0_5_set_match_win_percent',\n",
       "       'player_1_5_set_match_win_percent', 'player_0_close_sets_percent',\n",
       "       'player_1_close_sets_percent', 'player_0_match_win_percent_grass',\n",
       "       'player_1_match_win_percent_grass', 'player_0_games_win_percent_grass',\n",
       "       'player_1_games_win_percent_grass',\n",
       "       'player_0_5_set_match_win_percent_grass',\n",
       "       'player_1_5_set_match_win_percent_grass',\n",
       "       'player_0_close_sets_percent_grass',\n",
       "       'player_1_close_sets_percent_grass', 'player_0_match_win_percent_52',\n",
       "       'player_1_match_win_percent_52', 'player_0_games_win_percent_52',\n",
       "       'player_1_games_win_percent_52', 'player_0_5_set_match_win_percent_52',\n",
       "       'player_1_5_set_match_win_percent_52', 'player_0_close_sets_percent_52',\n",
       "       'player_1_close_sets_percent_52', 'player_0_match_win_percent_grass_60',\n",
       "       'player_1_match_win_percent_grass_60',\n",
       "       'player_0_games_win_percent_grass_60',\n",
       "       'player_1_games_win_percent_grass_60',\n",
       "       'player_0_5_set_match_win_percent_grass_60',\n",
       "       'player_1_5_set_match_win_percent_grass_60',\n",
       "       'player_0_close_sets_percent_grass_60',\n",
       "       'player_1_close_sets_percent_grass_60', 'player_0_match_win_percent_hh',\n",
       "       'player_1_match_win_percent_hh', 'player_0_games_win_percent_hh',\n",
       "       'player_1_games_win_percent_hh', 'player_0_match_win_percent_grass_hh',\n",
       "       'player_1_match_win_percent_grass_hh',\n",
       "       'player_0_games_win_percent_grass_hh',\n",
       "       'player_1_games_win_percent_grass_hh', 'diff_match_win_percent',\n",
       "       'diff_games_win_percent', 'diff_5_set_match_win_percent',\n",
       "       'diff_close_sets_percent', 'diff_match_win_percent_grass',\n",
       "       'diff_games_win_percent_grass', 'diff_5_set_match_win_percent_grass',\n",
       "       'diff_close_sets_percent_grass', 'diff_match_win_percent_52',\n",
       "       'diff_games_win_percent_52', 'diff_5_set_match_win_percent_52',\n",
       "       'diff_close_sets_percent_52', 'diff_match_win_percent_grass_60',\n",
       "       'diff_games_win_percent_grass_60',\n",
       "       'diff_5_set_match_win_percent_grass_60',\n",
       "       'diff_close_sets_percent_grass_60', 'diff_match_win_percent_hh',\n",
       "       'diff_games_win_percent_hh', 'diff_match_win_percent_grass_hh',\n",
       "       'diff_games_win_percent_grass_hh'],\n",
       "      dtype='object')"
      ]
     },
     "execution_count": 8,
     "metadata": {},
     "output_type": "execute_result"
    }
   ],
   "source": [
    "wimby_2019.columns"
   ]
  },
  {
   "cell_type": "code",
   "execution_count": 9,
   "metadata": {},
   "outputs": [
    {
     "data": {
      "text/plain": [
       "RandomForestClassifier(bootstrap=True, ccp_alpha=0.0, class_weight=None,\n",
       "                       criterion='gini', max_depth=3, max_features='auto',\n",
       "                       max_leaf_nodes=None, max_samples=None,\n",
       "                       min_impurity_decrease=0.0, min_impurity_split=None,\n",
       "                       min_samples_leaf=1, min_samples_split=2,\n",
       "                       min_weight_fraction_leaf=0.0, n_estimators=1100,\n",
       "                       n_jobs=-1, oob_score=False, random_state=19, verbose=0,\n",
       "                       warm_start=False)"
      ]
     },
     "execution_count": 9,
     "metadata": {},
     "output_type": "execute_result"
    }
   ],
   "source": [
    "# Random Forest\n",
    "rfc = RandomForestClassifier(n_estimators=1100, max_depth = 3, random_state=19, n_jobs=-1)\n",
    "rfc.fit(X_train, y_train)"
   ]
  },
  {
   "cell_type": "code",
   "execution_count": 10,
   "metadata": {},
   "outputs": [
    {
     "name": "stderr",
     "output_type": "stream",
     "text": [
      "/opt/anaconda3/lib/python3.7/site-packages/pandas/core/series.py:1143: FutureWarning: \n",
      "Passing list-likes to .loc or [] with any missing label will raise\n",
      "KeyError in the future, you can use .reindex() as an alternative.\n",
      "\n",
      "See the documentation here:\n",
      "https://pandas.pydata.org/pandas-docs/stable/user_guide/indexing.html#deprecate-loc-reindex-listlike\n",
      "  return self.loc[key]\n"
     ]
    },
    {
     "data": {
      "text/html": [
       "<div>\n",
       "<style scoped>\n",
       "    .dataframe tbody tr th:only-of-type {\n",
       "        vertical-align: middle;\n",
       "    }\n",
       "\n",
       "    .dataframe tbody tr th {\n",
       "        vertical-align: top;\n",
       "    }\n",
       "\n",
       "    .dataframe thead th {\n",
       "        text-align: right;\n",
       "    }\n",
       "</style>\n",
       "<table border=\"1\" class=\"dataframe\">\n",
       "  <thead>\n",
       "    <tr style=\"text-align: right;\">\n",
       "      <th></th>\n",
       "      <th>Model</th>\n",
       "      <th>Accuracy</th>\n",
       "      <th>True Positive Rate</th>\n",
       "      <th>True Negative Rate</th>\n",
       "      <th>False Positive Rate</th>\n",
       "      <th>False Negative Rate</th>\n",
       "      <th>Sensitivity</th>\n",
       "      <th>Specificity</th>\n",
       "      <th>AUC</th>\n",
       "      <th>F1-Score</th>\n",
       "      <th>Geometric Mean</th>\n",
       "      <th>Kappa-Statistics</th>\n",
       "      <th>Sklearn Version</th>\n",
       "    </tr>\n",
       "  </thead>\n",
       "  <tbody>\n",
       "    <tr>\n",
       "      <td>0</td>\n",
       "      <td>RF</td>\n",
       "      <td>0.718</td>\n",
       "      <td>0.23</td>\n",
       "      <td>0.906</td>\n",
       "      <td>0.094</td>\n",
       "      <td>0.77</td>\n",
       "      <td>0.23</td>\n",
       "      <td>0.906</td>\n",
       "      <td>0.698</td>\n",
       "      <td>0.311</td>\n",
       "      <td>0.456</td>\n",
       "      <td>0.161</td>\n",
       "      <td>0.22</td>\n",
       "    </tr>\n",
       "  </tbody>\n",
       "</table>\n",
       "</div>"
      ],
      "text/plain": [
       "  Model  Accuracy  True Positive Rate  True Negative Rate  \\\n",
       "0    RF     0.718                0.23               0.906   \n",
       "\n",
       "   False Positive Rate  False Negative Rate  Sensitivity  Specificity    AUC  \\\n",
       "0                0.094                 0.77         0.23        0.906  0.698   \n",
       "\n",
       "   F1-Score  Geometric Mean  Kappa-Statistics Sklearn Version  \n",
       "0     0.311           0.456             0.161            0.22  "
      ]
     },
     "execution_count": 10,
     "metadata": {},
     "output_type": "execute_result"
    },
    {
     "data": {
      "image/png": "[encoded data removed]",
      "text/plain": [
       "<Figure size 720x504 with 2 Axes>"
      ]
     },
     "metadata": {
      "needs_background": "light"
     },
     "output_type": "display_data"
    }
   ],
   "source": [
    "print_metrics(X_test, y_test, rfc, \"RF\")[1]"
   ]
  },
  {
   "cell_type": "code",
   "execution_count": 11,
   "metadata": {},
   "outputs": [
    {
     "data": {
      "text/plain": [
       "array([[0.87954493, 0.12045507],\n",
       "       [0.54744832, 0.45255168],\n",
       "       [0.84772091, 0.15227909],\n",
       "       [0.84412997, 0.15587003],\n",
       "       [0.83665707, 0.16334293],\n",
       "       [0.88667315, 0.11332685],\n",
       "       [0.86329678, 0.13670322],\n",
       "       [0.86565804, 0.13434196],\n",
       "       [0.87049969, 0.12950031],\n",
       "       [0.52647674, 0.47352326],\n",
       "       [0.8661331 , 0.1338669 ],\n",
       "       [0.83927852, 0.16072148],\n",
       "       [0.83655792, 0.16344208],\n",
       "       [0.50126461, 0.49873539],\n",
       "       [0.52440783, 0.47559217],\n",
       "       [0.57504192, 0.42495808]])"
      ]
     },
     "execution_count": 11,
     "metadata": {},
     "output_type": "execute_result"
    }
   ],
   "source": [
    "rfc.predict_proba(X_wimby_2019)"
   ]
  },
  {
   "cell_type": "code",
   "execution_count": 16,
   "metadata": {},
   "outputs": [
    {
     "data": {
      "text/plain": [
       "array([[0.99429965, 0.00570033],\n",
       "       [0.65820616, 0.34179384],\n",
       "       [0.9796694 , 0.02033064],\n",
       "       [0.8728488 , 0.12715118],\n",
       "       [0.9407589 , 0.05924113],\n",
       "       [0.99283147, 0.00716855],\n",
       "       [0.97538215, 0.02461786],\n",
       "       [0.9287607 , 0.07123927],\n",
       "       [0.9127725 , 0.08722753],\n",
       "       [0.46480143, 0.53519857],\n",
       "       [0.9842351 , 0.01576491],\n",
       "       [0.91493887, 0.08506115],\n",
       "       [0.8477629 , 0.15223713],\n",
       "       [0.47899574, 0.52100426],\n",
       "       [0.6658686 , 0.33413142],\n",
       "       [0.443228  , 0.556772  ]], dtype=float32)"
      ]
     },
     "execution_count": 16,
     "metadata": {},
     "output_type": "execute_result"
    }
   ],
   "source": [
    "# xgb_model.predict_proba(X_wimby_2019)"
   ]
  }
 ],
 "metadata": {
  "kernelspec": {
   "display_name": "Python 3",
   "language": "python",
   "name": "python3"
  },
  "language_info": {
   "codemirror_mode": {
    "name": "ipython",
    "version": 3
   },
   "file_extension": ".py",
   "mimetype": "text/x-python",
   "name": "python",
   "nbconvert_exporter": "python",
   "pygments_lexer": "ipython3",
   "version": "3.7.4"
  }
 },
 "nbformat": 4,
 "nbformat_minor": 2
}
