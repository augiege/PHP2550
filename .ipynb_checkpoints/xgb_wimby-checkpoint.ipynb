{
 "cells": [
  {
   "cell_type": "code",
   "execution_count": 1,
   "metadata": {},
   "outputs": [],
   "source": [
    "import pandas as pd\n",
    "import numpy as np\n",
    "from sklearn.metrics import roc_curve, roc_auc_score\n",
    "from sklearn.model_selection import train_test_split, StratifiedKFold\n",
    "from sklearn.ensemble import RandomForestClassifier\n",
    "from sklearn.metrics import *\n",
    "import xgboost as xgb\n",
    "import matplotlib.pyplot as plt\n",
    "import seaborn as sns\n",
    "from ipynb.fs.full.Performance_Utilities import calculate_optimal_threshold, print_metrics\n",
    "from utils.create_features_utils import *\n",
    "from sklearn.base import clone\n",
    "import os"
   ]
  },
  {
   "cell_type": "code",
   "execution_count": 2,
   "metadata": {},
   "outputs": [],
   "source": [
    "df = pd.read_csv('data/wimbledon_matches_with_feature.csv')\n",
    "raw_tennis_file = \"data/mens/combined_raw_data.csv\"\n",
    "round_16_file = \"data/wimbledon_2019.csv\""
   ]
  },
  {
   "cell_type": "code",
   "execution_count": 3,
   "metadata": {
    "scrolled": true
   },
   "outputs": [
    {
     "name": "stderr",
     "output_type": "stream",
     "text": [
      "/opt/anaconda3/lib/python3.7/site-packages/IPython/core/interactiveshell.py:3058: DtypeWarning: Columns (27,33) have mixed types. Specify dtype option on import or set low_memory=False.\n",
      "  interactivity=interactivity, compiler=compiler, result=result)\n"
     ]
    }
   ],
   "source": [
    "round_16 = pd.read_csv(round_16_file) # Round of 16 and on from Wimbledon 2019\n",
    "raw_tennis = pd.read_csv(raw_tennis_file) # Raw tennis file"
   ]
  },
  {
   "cell_type": "code",
   "execution_count": 4,
   "metadata": {},
   "outputs": [],
   "source": [
    "features_list = [\n",
    " 'diff_rank',\n",
    " 'diff_match_win_percent',\n",
    " 'diff_games_win_percent',\n",
    " 'diff_5_set_match_win_percent',\n",
    " 'diff_close_sets_percent',\n",
    " 'diff_match_win_percent_grass',\n",
    " 'diff_games_win_percent_grass',\n",
    " 'diff_5_set_match_win_percent_grass',\n",
    " 'diff_close_sets_percent_grass',\n",
    " 'diff_match_win_percent_52',\n",
    " 'diff_games_win_percent_52',\n",
    " 'diff_5_set_match_win_percent_52',\n",
    " 'diff_close_sets_percent_52',\n",
    " 'diff_match_win_percent_grass_60',\n",
    " 'diff_games_win_percent_grass_60',\n",
    " 'diff_5_set_match_win_percent_grass_60',\n",
    " 'diff_close_sets_percent_grass_60',\n",
    " 'diff_match_win_percent_hh',\n",
    " 'diff_games_win_percent_hh',\n",
    " 'diff_match_win_percent_grass_hh',\n",
    " 'diff_games_win_percent_grass_hh']"
   ]
  },
  {
   "cell_type": "code",
   "execution_count": 5,
   "metadata": {},
   "outputs": [],
   "source": [
    "df = df.dropna()\n",
    "\n",
    "df['diff_rank'] = df['player_0_rank'] - df['player_1_rank']"
   ]
  },
  {
   "cell_type": "code",
   "execution_count": 6,
   "metadata": {},
   "outputs": [],
   "source": [
    "# Train-test split\n",
    "y = df.outcome\n",
    "X = df[features_list]\n",
    "\n",
    "X_train, X_test, y_train, y_test = train_test_split(X, y, random_state=42, stratify=y, shuffle=True, test_size=0.20)"
   ]
  },
  {
   "cell_type": "code",
   "execution_count": 7,
   "metadata": {},
   "outputs": [
    {
     "name": "stdout",
     "output_type": "stream",
     "text": [
      "Creating Player Career Stats All Surface\n",
      "Creating Player Career Stats on Grass/Clay/Hard\n",
      "Creating Player Career Stats All Surface Last 52 Weeks\n",
      "Creating Player Career Stats on Grass/Clay/Hard Last 60 Weeks\n",
      "Creating Player Head to Head Career Stats All Surface\n",
      "Creating Player Head to Head Career Stats On Grass\n",
      "Creating Difference Variables\n"
     ]
    }
   ],
   "source": [
    "# Final to predict on\n",
    "round_16['Date'] = '2019/07/07'\n",
    "round_16['Surface'] = 'Grass'\n",
    "round_16['diff_rank'] = round_16['player_0_rank'] - round_16['player_1_rank']\n",
    "\n",
    "wimby_2019 = create_features(round_16, raw_tennis) # Round 16 and on Wimby 2019\n",
    "X_wimby_2019 = wimby_2019[features_list]"
   ]
  },
  {
   "cell_type": "code",
   "execution_count": 8,
   "metadata": {},
   "outputs": [
    {
     "data": {
      "text/plain": [
       "Index(['Round', 'player_0', 'player_0_rank', 'player_1', 'player_1_rank',\n",
       "       'Date', 'Surface', 'diff_rank', 'player_0_match_win_percent',\n",
       "       'player_1_match_win_percent', 'player_0_games_win_percent',\n",
       "       'player_1_games_win_percent', 'player_0_5_set_match_win_percent',\n",
       "       'player_1_5_set_match_win_percent', 'player_0_close_sets_percent',\n",
       "       'player_1_close_sets_percent', 'player_0_match_win_percent_grass',\n",
       "       'player_1_match_win_percent_grass', 'player_0_games_win_percent_grass',\n",
       "       'player_1_games_win_percent_grass',\n",
       "       'player_0_5_set_match_win_percent_grass',\n",
       "       'player_1_5_set_match_win_percent_grass',\n",
       "       'player_0_close_sets_percent_grass',\n",
       "       'player_1_close_sets_percent_grass', 'player_0_match_win_percent_52',\n",
       "       'player_1_match_win_percent_52', 'player_0_games_win_percent_52',\n",
       "       'player_1_games_win_percent_52', 'player_0_5_set_match_win_percent_52',\n",
       "       'player_1_5_set_match_win_percent_52', 'player_0_close_sets_percent_52',\n",
       "       'player_1_close_sets_percent_52', 'player_0_match_win_percent_grass_60',\n",
       "       'player_1_match_win_percent_grass_60',\n",
       "       'player_0_games_win_percent_grass_60',\n",
       "       'player_1_games_win_percent_grass_60',\n",
       "       'player_0_5_set_match_win_percent_grass_60',\n",
       "       'player_1_5_set_match_win_percent_grass_60',\n",
       "       'player_0_close_sets_percent_grass_60',\n",
       "       'player_1_close_sets_percent_grass_60', 'player_0_match_win_percent_hh',\n",
       "       'player_1_match_win_percent_hh', 'player_0_games_win_percent_hh',\n",
       "       'player_1_games_win_percent_hh', 'player_0_match_win_percent_grass_hh',\n",
       "       'player_1_match_win_percent_grass_hh',\n",
       "       'player_0_games_win_percent_grass_hh',\n",
       "       'player_1_games_win_percent_grass_hh', 'diff_match_win_percent',\n",
       "       'diff_games_win_percent', 'diff_5_set_match_win_percent',\n",
       "       'diff_close_sets_percent', 'diff_match_win_percent_grass',\n",
       "       'diff_games_win_percent_grass', 'diff_5_set_match_win_percent_grass',\n",
       "       'diff_close_sets_percent_grass', 'diff_match_win_percent_52',\n",
       "       'diff_games_win_percent_52', 'diff_5_set_match_win_percent_52',\n",
       "       'diff_close_sets_percent_52', 'diff_match_win_percent_grass_60',\n",
       "       'diff_games_win_percent_grass_60',\n",
       "       'diff_5_set_match_win_percent_grass_60',\n",
       "       'diff_close_sets_percent_grass_60', 'diff_match_win_percent_hh',\n",
       "       'diff_games_win_percent_hh', 'diff_match_win_percent_grass_hh',\n",
       "       'diff_games_win_percent_grass_hh'],\n",
       "      dtype='object')"
      ]
     },
     "execution_count": 8,
     "metadata": {},
     "output_type": "execute_result"
    }
   ],
   "source": [
    "wimby_2019.columns"
   ]
  },
  {
   "cell_type": "code",
   "execution_count": 14,
   "metadata": {},
   "outputs": [
    {
     "data": {
      "text/plain": [
       "XGBClassifier(base_score=0.5, booster='gbtree', colsample_bylevel=1,\n",
       "              colsample_bynode=1, colsample_bytree=1, eta=0.01, gamma=0,\n",
       "              learning_rate=0.1, max_delta_step=0, max_depth=7,\n",
       "              min_child_weight=1, missing=None, n_estimators=100, n_jobs=1,\n",
       "              nthread=-1, objective='binary:logistic', random_state=0,\n",
       "              reg_alpha=0, reg_lambda=1, scale_pos_weight=1, seed=None,\n",
       "              silent=None, subsample=1, verbosity=1)"
      ]
     },
     "execution_count": 14,
     "metadata": {},
     "output_type": "execute_result"
    }
   ],
   "source": [
    "# XGBoost\n",
    "os.environ['KMP_DUPLICATE_LIB_OK'] = 'True'\n",
    "xgb_model = xgb.XGBClassifier(max_depth = 7, eta = .01, nthread=-1)\n",
    "xgb_model.fit(X_train, y_train)"
   ]
  },
  {
   "cell_type": "code",
   "execution_count": 15,
   "metadata": {},
   "outputs": [
    {
     "name": "stderr",
     "output_type": "stream",
     "text": [
      "/opt/anaconda3/lib/python3.7/site-packages/pandas/core/series.py:1143: FutureWarning: \n",
      "Passing list-likes to .loc or [] with any missing label will raise\n",
      "KeyError in the future, you can use .reindex() as an alternative.\n",
      "\n",
      "See the documentation here:\n",
      "https://pandas.pydata.org/pandas-docs/stable/user_guide/indexing.html#deprecate-loc-reindex-listlike\n",
      "  return self.loc[key]\n"
     ]
    },
    {
     "data": {
      "text/html": [
       "<div>\n",
       "<style scoped>\n",
       "    .dataframe tbody tr th:only-of-type {\n",
       "        vertical-align: middle;\n",
       "    }\n",
       "\n",
       "    .dataframe tbody tr th {\n",
       "        vertical-align: top;\n",
       "    }\n",
       "\n",
       "    .dataframe thead th {\n",
       "        text-align: right;\n",
       "    }\n",
       "</style>\n",
       "<table border=\"1\" class=\"dataframe\">\n",
       "  <thead>\n",
       "    <tr style=\"text-align: right;\">\n",
       "      <th></th>\n",
       "      <th>Model</th>\n",
       "      <th>Accuracy</th>\n",
       "      <th>True Positive Rate</th>\n",
       "      <th>True Negative Rate</th>\n",
       "      <th>False Positive Rate</th>\n",
       "      <th>False Negative Rate</th>\n",
       "      <th>Sensitivity</th>\n",
       "      <th>Specificity</th>\n",
       "      <th>AUC</th>\n",
       "      <th>F1-Score</th>\n",
       "      <th>Geometric Mean</th>\n",
       "      <th>Kappa-Statistics</th>\n",
       "      <th>Sklearn Version</th>\n",
       "    </tr>\n",
       "  </thead>\n",
       "  <tbody>\n",
       "    <tr>\n",
       "      <td>0</td>\n",
       "      <td>XGB</td>\n",
       "      <td>0.709</td>\n",
       "      <td>0.295</td>\n",
       "      <td>0.868</td>\n",
       "      <td>0.132</td>\n",
       "      <td>0.705</td>\n",
       "      <td>0.295</td>\n",
       "      <td>0.868</td>\n",
       "      <td>0.662</td>\n",
       "      <td>0.36</td>\n",
       "      <td>0.506</td>\n",
       "      <td>0.183</td>\n",
       "      <td>0.22</td>\n",
       "    </tr>\n",
       "  </tbody>\n",
       "</table>\n",
       "</div>"
      ],
      "text/plain": [
       "  Model  Accuracy  True Positive Rate  True Negative Rate  \\\n",
       "0   XGB     0.709               0.295               0.868   \n",
       "\n",
       "   False Positive Rate  False Negative Rate  Sensitivity  Specificity    AUC  \\\n",
       "0                0.132                0.705        0.295        0.868  0.662   \n",
       "\n",
       "   F1-Score  Geometric Mean  Kappa-Statistics Sklearn Version  \n",
       "0      0.36           0.506             0.183            0.22  "
      ]
     },
     "execution_count": 15,
     "metadata": {},
     "output_type": "execute_result"
    },
    {
     "data": {
      "image/png": "[encoded data removed]",
      "text/plain": [
       "<Figure size 720x504 with 2 Axes>"
      ]
     },
     "metadata": {},
     "output_type": "display_data"
    }
   ],
   "source": [
    "print_metrics(X_test, y_test, xgb_model, \"XGB\")[1]"
   ]
  },
  {
   "cell_type": "code",
   "execution_count": 16,
   "metadata": {},
   "outputs": [
    {
     "data": {
      "text/plain": [
       "array([[0.99429965, 0.00570033],\n",
       "       [0.65820616, 0.34179384],\n",
       "       [0.9796694 , 0.02033064],\n",
       "       [0.8728488 , 0.12715118],\n",
       "       [0.9407589 , 0.05924113],\n",
       "       [0.99283147, 0.00716855],\n",
       "       [0.97538215, 0.02461786],\n",
       "       [0.9287607 , 0.07123927],\n",
       "       [0.9127725 , 0.08722753],\n",
       "       [0.46480143, 0.53519857],\n",
       "       [0.9842351 , 0.01576491],\n",
       "       [0.91493887, 0.08506115],\n",
       "       [0.8477629 , 0.15223713],\n",
       "       [0.47899574, 0.52100426],\n",
       "       [0.6658686 , 0.33413142],\n",
       "       [0.443228  , 0.556772  ]], dtype=float32)"
      ]
     },
     "execution_count": 16,
     "metadata": {},
     "output_type": "execute_result"
    }
   ],
   "source": [
    "xgb_model.predict_proba(X_wimby_2019)"
   ]
  }
 ],
 "metadata": {
  "kernelspec": {
   "display_name": "Python 3",
   "language": "python",
   "name": "python3"
  },
  "language_info": {
   "codemirror_mode": {
    "name": "ipython",
    "version": 3
   },
   "file_extension": ".py",
   "mimetype": "text/x-python",
   "name": "python",
   "nbconvert_exporter": "python",
   "pygments_lexer": "ipython3",
   "version": "3.7.4"
  }
 },
 "nbformat": 4,
 "nbformat_minor": 2
}
