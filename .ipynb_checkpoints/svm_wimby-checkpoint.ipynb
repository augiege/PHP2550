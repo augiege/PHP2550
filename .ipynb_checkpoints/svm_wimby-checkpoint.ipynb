{
 "cells": [
  {
   "cell_type": "code",
   "execution_count": 54,
   "metadata": {},
   "outputs": [],
   "source": [
    "import pandas as pd\n",
    "import numpy as np\n",
    "from sklearn.metrics import roc_curve, roc_auc_score\n",
    "from sklearn.model_selection import train_test_split, StratifiedKFold, GridSearchCV\n",
    "from sklearn import svm\n",
    "from sklearn.metrics import *\n",
    "import xgboost as xgb\n",
    "import matplotlib.pyplot as plt\n",
    "import seaborn as sns\n",
    "from ipynb.fs.full.Performance_Utilities import calculate_optimal_threshold, print_metrics\n",
    "from utils.create_features_utils import *\n",
    "from sklearn.base import clone\n",
    "import os"
   ]
  },
  {
   "cell_type": "code",
   "execution_count": 2,
   "metadata": {},
   "outputs": [],
   "source": [
    "df = pd.read_csv('data/wimbledon_matches_with_feature.csv')\n",
    "raw_tennis_file = \"data/mens/combined_raw_data.csv\"\n",
    "round_16_file = \"data/wimbledon_2019.csv\""
   ]
  },
  {
   "cell_type": "code",
   "execution_count": 3,
   "metadata": {},
   "outputs": [
    {
     "name": "stderr",
     "output_type": "stream",
     "text": [
      "/opt/anaconda3/lib/python3.7/site-packages/IPython/core/interactiveshell.py:3058: DtypeWarning: Columns (27,33) have mixed types. Specify dtype option on import or set low_memory=False.\n",
      "  interactivity=interactivity, compiler=compiler, result=result)\n"
     ]
    }
   ],
   "source": [
    "round_16 = pd.read_csv(round_16_file) # Round of 16 and on from Wimbledon 2019\n",
    "raw_tennis = pd.read_csv(raw_tennis_file) # Raw tennis file"
   ]
  },
  {
   "cell_type": "code",
   "execution_count": 4,
   "metadata": {},
   "outputs": [],
   "source": [
    "features_list = [\n",
    " 'diff_rank',\n",
    " 'diff_match_win_percent',\n",
    " 'diff_games_win_percent',\n",
    " 'diff_5_set_match_win_percent',\n",
    " 'diff_close_sets_percent',\n",
    " 'diff_match_win_percent_grass',\n",
    " 'diff_games_win_percent_grass',\n",
    " 'diff_5_set_match_win_percent_grass',\n",
    " 'diff_close_sets_percent_grass',\n",
    " 'diff_match_win_percent_52',\n",
    " 'diff_games_win_percent_52',\n",
    " 'diff_5_set_match_win_percent_52',\n",
    " 'diff_close_sets_percent_52',\n",
    " 'diff_match_win_percent_grass_60',\n",
    " 'diff_games_win_percent_grass_60',\n",
    " 'diff_5_set_match_win_percent_grass_60',\n",
    " 'diff_close_sets_percent_grass_60',\n",
    " 'diff_match_win_percent_hh',\n",
    " 'diff_games_win_percent_hh',\n",
    " 'diff_match_win_percent_grass_hh',\n",
    " 'diff_games_win_percent_grass_hh']"
   ]
  },
  {
   "cell_type": "code",
   "execution_count": 5,
   "metadata": {},
   "outputs": [],
   "source": [
    "df = df.dropna()\n",
    "\n",
    "df['diff_rank'] = df['player_0_rank'] - df['player_1_rank']"
   ]
  },
  {
   "cell_type": "code",
   "execution_count": 6,
   "metadata": {},
   "outputs": [],
   "source": [
    "# Train-test split\n",
    "y = df.outcome\n",
    "X = df[features_list]\n",
    "\n",
    "X_train, X_test, y_train, y_test = train_test_split(X, y, random_state=42, stratify=y, shuffle=True, test_size=0.20)"
   ]
  },
  {
   "cell_type": "code",
   "execution_count": 7,
   "metadata": {},
   "outputs": [
    {
     "name": "stdout",
     "output_type": "stream",
     "text": [
      "Creating Player Career Stats All Surface\n",
      "Creating Player Career Stats on Grass/Clay/Hard\n",
      "Creating Player Career Stats All Surface Last 52 Weeks\n",
      "Creating Player Career Stats on Grass/Clay/Hard Last 60 Weeks\n",
      "Creating Player Head to Head Career Stats All Surface\n",
      "Creating Player Head to Head Career Stats On Grass\n",
      "Creating Difference Variables\n"
     ]
    }
   ],
   "source": [
    "# Final to predict on\n",
    "round_16['Date'] = '2019/07/07'\n",
    "round_16['Surface'] = 'Grass'\n",
    "round_16['diff_rank'] = round_16['player_0_rank'] - round_16['player_1_rank']\n",
    "\n",
    "wimby_2019 = create_features(round_16, raw_tennis) # Round 16 and on Wimby 2019\n",
    "X_wimby_2019 = wimby_2019[features_list]"
   ]
  },
  {
   "cell_type": "code",
   "execution_count": 84,
   "metadata": {},
   "outputs": [],
   "source": [
    "grid_params = [{\"C\": [1, 1.5, 2, 2.5, 3, 3.5, 4], \"gamma\": [.05, .1, .15, .2, .25, .3, .4, .5]}]"
   ]
  },
  {
   "cell_type": "code",
   "execution_count": 89,
   "metadata": {},
   "outputs": [
    {
     "data": {
      "text/plain": [
       "SVC(C=3.5, break_ties=False, cache_size=200, class_weight=None, coef0=0.0,\n",
       "    decision_function_shape='ovr', degree=3, gamma=0.05, kernel='rbf',\n",
       "    max_iter=-1, probability=True, random_state=None, shrinking=True, tol=0.001,\n",
       "    verbose=False)"
      ]
     },
     "execution_count": 89,
     "metadata": {},
     "output_type": "execute_result"
    }
   ],
   "source": [
    "svm_model = svm.SVC(C = 3.5, gamma = .05, probability=True, kernel = \"rbf\")\n",
    "svm_model.fit(X_train, y_train)"
   ]
  },
  {
   "cell_type": "code",
   "execution_count": 86,
   "metadata": {},
   "outputs": [],
   "source": [
    "grid_search_svm = GridSearchCV(estimator = svm_model, param_grid = grid_params, scoring = 'roc_auc', cv = 5)"
   ]
  },
  {
   "cell_type": "code",
   "execution_count": 87,
   "metadata": {},
   "outputs": [
    {
     "data": {
      "text/plain": [
       "GridSearchCV(cv=5, error_score=nan,\n",
       "             estimator=SVC(C=3, break_ties=False, cache_size=200,\n",
       "                           class_weight=None, coef0=0.0,\n",
       "                           decision_function_shape='ovr', degree=3, gamma=0.05,\n",
       "                           kernel='rbf', max_iter=-1, probability=True,\n",
       "                           random_state=None, shrinking=True, tol=0.001,\n",
       "                           verbose=False),\n",
       "             iid='deprecated', n_jobs=None,\n",
       "             param_grid=[{'C': [1, 1.5, 2, 2.5, 3, 3.5, 4],\n",
       "                          'gamma': [0.05, 0.1, 0.15, 0.2, 0.25, 0.3, 0.4,\n",
       "                                    0.5]}],\n",
       "             pre_dispatch='2*n_jobs', refit=True, return_train_score=False,\n",
       "             scoring='roc_auc', verbose=0)"
      ]
     },
     "execution_count": 87,
     "metadata": {},
     "output_type": "execute_result"
    }
   ],
   "source": [
    "grid_search_svm.fit(X_train, y_train)"
   ]
  },
  {
   "cell_type": "code",
   "execution_count": 88,
   "metadata": {},
   "outputs": [
    {
     "data": {
      "text/plain": [
       "{'C': 3.5, 'gamma': 0.05}"
      ]
     },
     "execution_count": 88,
     "metadata": {},
     "output_type": "execute_result"
    }
   ],
   "source": [
    "grid_search_svm.best_params_"
   ]
  },
  {
   "cell_type": "code",
   "execution_count": 90,
   "metadata": {},
   "outputs": [
    {
     "name": "stderr",
     "output_type": "stream",
     "text": [
      "/opt/anaconda3/lib/python3.7/site-packages/pandas/core/series.py:1143: FutureWarning: \n",
      "Passing list-likes to .loc or [] with any missing label will raise\n",
      "KeyError in the future, you can use .reindex() as an alternative.\n",
      "\n",
      "See the documentation here:\n",
      "https://pandas.pydata.org/pandas-docs/stable/user_guide/indexing.html#deprecate-loc-reindex-listlike\n",
      "  return self.loc[key]\n"
     ]
    },
    {
     "data": {
      "text/html": [
       "<div>\n",
       "<style scoped>\n",
       "    .dataframe tbody tr th:only-of-type {\n",
       "        vertical-align: middle;\n",
       "    }\n",
       "\n",
       "    .dataframe tbody tr th {\n",
       "        vertical-align: top;\n",
       "    }\n",
       "\n",
       "    .dataframe thead th {\n",
       "        text-align: right;\n",
       "    }\n",
       "</style>\n",
       "<table border=\"1\" class=\"dataframe\">\n",
       "  <thead>\n",
       "    <tr style=\"text-align: right;\">\n",
       "      <th></th>\n",
       "      <th>Model</th>\n",
       "      <th>Accuracy</th>\n",
       "      <th>True Positive Rate</th>\n",
       "      <th>True Negative Rate</th>\n",
       "      <th>False Positive Rate</th>\n",
       "      <th>False Negative Rate</th>\n",
       "      <th>Sensitivity</th>\n",
       "      <th>Specificity</th>\n",
       "      <th>AUC</th>\n",
       "      <th>F1-Score</th>\n",
       "      <th>Geometric Mean</th>\n",
       "      <th>Kappa-Statistics</th>\n",
       "      <th>Sklearn Version</th>\n",
       "    </tr>\n",
       "  </thead>\n",
       "  <tbody>\n",
       "    <tr>\n",
       "      <td>0</td>\n",
       "      <td>SVM</td>\n",
       "      <td>0.718</td>\n",
       "      <td>0.115</td>\n",
       "      <td>0.95</td>\n",
       "      <td>0.05</td>\n",
       "      <td>0.885</td>\n",
       "      <td>0.115</td>\n",
       "      <td>0.95</td>\n",
       "      <td>0.626</td>\n",
       "      <td>0.184</td>\n",
       "      <td>0.331</td>\n",
       "      <td>0.084</td>\n",
       "      <td>0.22</td>\n",
       "    </tr>\n",
       "  </tbody>\n",
       "</table>\n",
       "</div>"
      ],
      "text/plain": [
       "  Model  Accuracy  True Positive Rate  True Negative Rate  \\\n",
       "0   SVM     0.718               0.115                0.95   \n",
       "\n",
       "   False Positive Rate  False Negative Rate  Sensitivity  Specificity    AUC  \\\n",
       "0                 0.05                0.885        0.115         0.95  0.626   \n",
       "\n",
       "   F1-Score  Geometric Mean  Kappa-Statistics Sklearn Version  \n",
       "0     0.184           0.331             0.084            0.22  "
      ]
     },
     "execution_count": 90,
     "metadata": {},
     "output_type": "execute_result"
    },
    {
     "data": {
      "image/png": "[encoded data removed]",
      "text/plain": [
       "<Figure size 720x504 with 2 Axes>"
      ]
     },
     "metadata": {},
     "output_type": "display_data"
    }
   ],
   "source": [
    "print_metrics(X_test, y_test, svm_model, \"SVM\")[1]"
   ]
  }
 ],
 "metadata": {
  "kernelspec": {
   "display_name": "Python 3",
   "language": "python",
   "name": "python3"
  },
  "language_info": {
   "codemirror_mode": {
    "name": "ipython",
    "version": 3
   },
   "file_extension": ".py",
   "mimetype": "text/x-python",
   "name": "python",
   "nbconvert_exporter": "python",
   "pygments_lexer": "ipython3",
   "version": "3.7.4"
  }
 },
 "nbformat": 4,
 "nbformat_minor": 2
}
